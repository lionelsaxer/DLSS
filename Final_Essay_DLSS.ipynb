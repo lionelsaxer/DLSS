{
  "nbformat": 4,
  "nbformat_minor": 0,
  "metadata": {
    "colab": {
      "provenance": [],
      "authorship_tag": "ABX9TyO8s+OSqsz1E17U9h5372Ms",
      "include_colab_link": true
    },
    "kernelspec": {
      "name": "python3",
      "display_name": "Python 3"
    },
    "language_info": {
      "name": "python"
    }
  },
  "cells": [
    {
      "cell_type": "markdown",
      "metadata": {
        "id": "view-in-github",
        "colab_type": "text"
      },
      "source": [
        "<a href=\"https://colab.research.google.com/github/lionelsaxer/DLSS/blob/main/Final_Essay_DLSS.ipynb\" target=\"_parent\"><img src=\"https://colab.research.google.com/assets/colab-badge.svg\" alt=\"Open In Colab\"/></a>"
      ]
    },
    {
      "cell_type": "markdown",
      "source": [
        "# Final Essay DLSS Code"
      ],
      "metadata": {
        "id": "yeew9RDDDEj7"
      }
    },
    {
      "cell_type": "code",
      "source": [
        "# Import Packages\n",
        "import pandas as pd\n",
        "import numpy as np\n",
        "import tensorflow as tf\n",
        "from tensorflow import keras\n",
        "from tensorflow.keras import layers\n",
        "from matplotlib import pyplot as plt\n",
        "from collections import Counter\n",
        "from operator import itemgetter\n",
        "from google.colab import drive"
      ],
      "metadata": {
        "id": "3mMNvDt6DRQd"
      },
      "execution_count": 1,
      "outputs": []
    },
    {
      "cell_type": "code",
      "source": [
        "drive.mount(\"/content/drive\")"
      ],
      "metadata": {
        "colab": {
          "base_uri": "https://localhost:8080/"
        },
        "id": "RLz3Jvn61sa0",
        "outputId": "a11d4182-34db-45a6-e306-b35a7a981526"
      },
      "execution_count": 3,
      "outputs": [
        {
          "output_type": "stream",
          "name": "stdout",
          "text": [
            "Mounted at /content/drive\n"
          ]
        }
      ]
    },
    {
      "cell_type": "code",
      "source": [
        "# Import data set\n",
        "df_vdem = pd.read_csv(\"/content/drive/MyDrive/V-Dem-CY-Full+Others-v13.csv\",\n",
        "                      usecols=[\"v2eltrnout\", \"country_name\", \"year\",\n",
        "                               \"v2elvaptrn\", \"e_wb_pop\", \"v2elcomvot\",\n",
        "                               \"v2elpubfin\", \"v2ellovtlg\", \"v2ellovtsm\",\n",
        "                               \"v2elparlel\"])"
      ],
      "metadata": {
        "id": "-Buj8hYKE6WZ"
      },
      "execution_count": 25,
      "outputs": []
    },
    {
      "cell_type": "code",
      "source": [
        "df_vdem = df_vdem[[\"v2eltrnout\", \"country_name\", \"year\", \"v2elvaptrn\",\n",
        "                    \"e_wb_pop\", \"v2elcomvot\", \"v2elpubfin\", \"v2ellovtlg\",\n",
        "                    \"v2ellovtsm\", \"v2elparlel\"]]"
      ],
      "metadata": {
        "id": "CdKu1a7f4xGs"
      },
      "execution_count": 26,
      "outputs": []
    },
    {
      "cell_type": "code",
      "source": [
        "df_vdem.head()"
      ],
      "metadata": {
        "colab": {
          "base_uri": "https://localhost:8080/",
          "height": 206
        },
        "id": "F-pcukF2K2UN",
        "outputId": "719d05bd-ce88-4458-aefe-d1de9fbf085a"
      },
      "execution_count": 27,
      "outputs": [
        {
          "output_type": "execute_result",
          "data": {
            "text/plain": [
              "   v2eltrnout country_name  year  v2elvaptrn  e_wb_pop  v2elcomvot  \\\n",
              "0         NaN       Mexico  1789         NaN       NaN         NaN   \n",
              "1         NaN       Mexico  1790         NaN       NaN         NaN   \n",
              "2         NaN       Mexico  1791         NaN       NaN         NaN   \n",
              "3         NaN       Mexico  1792         NaN       NaN         NaN   \n",
              "4         NaN       Mexico  1793         NaN       NaN         NaN   \n",
              "\n",
              "   v2elpubfin  v2ellovtlg  v2ellovtsm  v2elparlel  \n",
              "0      -2.176         NaN         NaN         NaN  \n",
              "1      -2.176         NaN         NaN         NaN  \n",
              "2      -2.176         NaN         NaN         NaN  \n",
              "3      -2.176         NaN         NaN         NaN  \n",
              "4      -2.176         NaN         NaN         NaN  "
            ],
            "text/html": [
              "\n",
              "\n",
              "  <div id=\"df-3013fecc-6e77-44bc-90c6-c1f0324c7a8b\">\n",
              "    <div class=\"colab-df-container\">\n",
              "      <div>\n",
              "<style scoped>\n",
              "    .dataframe tbody tr th:only-of-type {\n",
              "        vertical-align: middle;\n",
              "    }\n",
              "\n",
              "    .dataframe tbody tr th {\n",
              "        vertical-align: top;\n",
              "    }\n",
              "\n",
              "    .dataframe thead th {\n",
              "        text-align: right;\n",
              "    }\n",
              "</style>\n",
              "<table border=\"1\" class=\"dataframe\">\n",
              "  <thead>\n",
              "    <tr style=\"text-align: right;\">\n",
              "      <th></th>\n",
              "      <th>v2eltrnout</th>\n",
              "      <th>country_name</th>\n",
              "      <th>year</th>\n",
              "      <th>v2elvaptrn</th>\n",
              "      <th>e_wb_pop</th>\n",
              "      <th>v2elcomvot</th>\n",
              "      <th>v2elpubfin</th>\n",
              "      <th>v2ellovtlg</th>\n",
              "      <th>v2ellovtsm</th>\n",
              "      <th>v2elparlel</th>\n",
              "    </tr>\n",
              "  </thead>\n",
              "  <tbody>\n",
              "    <tr>\n",
              "      <th>0</th>\n",
              "      <td>NaN</td>\n",
              "      <td>Mexico</td>\n",
              "      <td>1789</td>\n",
              "      <td>NaN</td>\n",
              "      <td>NaN</td>\n",
              "      <td>NaN</td>\n",
              "      <td>-2.176</td>\n",
              "      <td>NaN</td>\n",
              "      <td>NaN</td>\n",
              "      <td>NaN</td>\n",
              "    </tr>\n",
              "    <tr>\n",
              "      <th>1</th>\n",
              "      <td>NaN</td>\n",
              "      <td>Mexico</td>\n",
              "      <td>1790</td>\n",
              "      <td>NaN</td>\n",
              "      <td>NaN</td>\n",
              "      <td>NaN</td>\n",
              "      <td>-2.176</td>\n",
              "      <td>NaN</td>\n",
              "      <td>NaN</td>\n",
              "      <td>NaN</td>\n",
              "    </tr>\n",
              "    <tr>\n",
              "      <th>2</th>\n",
              "      <td>NaN</td>\n",
              "      <td>Mexico</td>\n",
              "      <td>1791</td>\n",
              "      <td>NaN</td>\n",
              "      <td>NaN</td>\n",
              "      <td>NaN</td>\n",
              "      <td>-2.176</td>\n",
              "      <td>NaN</td>\n",
              "      <td>NaN</td>\n",
              "      <td>NaN</td>\n",
              "    </tr>\n",
              "    <tr>\n",
              "      <th>3</th>\n",
              "      <td>NaN</td>\n",
              "      <td>Mexico</td>\n",
              "      <td>1792</td>\n",
              "      <td>NaN</td>\n",
              "      <td>NaN</td>\n",
              "      <td>NaN</td>\n",
              "      <td>-2.176</td>\n",
              "      <td>NaN</td>\n",
              "      <td>NaN</td>\n",
              "      <td>NaN</td>\n",
              "    </tr>\n",
              "    <tr>\n",
              "      <th>4</th>\n",
              "      <td>NaN</td>\n",
              "      <td>Mexico</td>\n",
              "      <td>1793</td>\n",
              "      <td>NaN</td>\n",
              "      <td>NaN</td>\n",
              "      <td>NaN</td>\n",
              "      <td>-2.176</td>\n",
              "      <td>NaN</td>\n",
              "      <td>NaN</td>\n",
              "      <td>NaN</td>\n",
              "    </tr>\n",
              "  </tbody>\n",
              "</table>\n",
              "</div>\n",
              "      <button class=\"colab-df-convert\" onclick=\"convertToInteractive('df-3013fecc-6e77-44bc-90c6-c1f0324c7a8b')\"\n",
              "              title=\"Convert this dataframe to an interactive table.\"\n",
              "              style=\"display:none;\">\n",
              "\n",
              "  <svg xmlns=\"http://www.w3.org/2000/svg\" height=\"24px\"viewBox=\"0 0 24 24\"\n",
              "       width=\"24px\">\n",
              "    <path d=\"M0 0h24v24H0V0z\" fill=\"none\"/>\n",
              "    <path d=\"M18.56 5.44l.94 2.06.94-2.06 2.06-.94-2.06-.94-.94-2.06-.94 2.06-2.06.94zm-11 1L8.5 8.5l.94-2.06 2.06-.94-2.06-.94L8.5 2.5l-.94 2.06-2.06.94zm10 10l.94 2.06.94-2.06 2.06-.94-2.06-.94-.94-2.06-.94 2.06-2.06.94z\"/><path d=\"M17.41 7.96l-1.37-1.37c-.4-.4-.92-.59-1.43-.59-.52 0-1.04.2-1.43.59L10.3 9.45l-7.72 7.72c-.78.78-.78 2.05 0 2.83L4 21.41c.39.39.9.59 1.41.59.51 0 1.02-.2 1.41-.59l7.78-7.78 2.81-2.81c.8-.78.8-2.07 0-2.86zM5.41 20L4 18.59l7.72-7.72 1.47 1.35L5.41 20z\"/>\n",
              "  </svg>\n",
              "      </button>\n",
              "\n",
              "\n",
              "\n",
              "    <div id=\"df-eb5b27b8-f0d8-469d-83ab-6edb338fdb15\">\n",
              "      <button class=\"colab-df-quickchart\" onclick=\"quickchart('df-eb5b27b8-f0d8-469d-83ab-6edb338fdb15')\"\n",
              "              title=\"Suggest charts.\"\n",
              "              style=\"display:none;\">\n",
              "\n",
              "<svg xmlns=\"http://www.w3.org/2000/svg\" height=\"24px\"viewBox=\"0 0 24 24\"\n",
              "     width=\"24px\">\n",
              "    <g>\n",
              "        <path d=\"M19 3H5c-1.1 0-2 .9-2 2v14c0 1.1.9 2 2 2h14c1.1 0 2-.9 2-2V5c0-1.1-.9-2-2-2zM9 17H7v-7h2v7zm4 0h-2V7h2v10zm4 0h-2v-4h2v4z\"/>\n",
              "    </g>\n",
              "</svg>\n",
              "      </button>\n",
              "    </div>\n",
              "\n",
              "<style>\n",
              "  .colab-df-quickchart {\n",
              "    background-color: #E8F0FE;\n",
              "    border: none;\n",
              "    border-radius: 50%;\n",
              "    cursor: pointer;\n",
              "    display: none;\n",
              "    fill: #1967D2;\n",
              "    height: 32px;\n",
              "    padding: 0 0 0 0;\n",
              "    width: 32px;\n",
              "  }\n",
              "\n",
              "  .colab-df-quickchart:hover {\n",
              "    background-color: #E2EBFA;\n",
              "    box-shadow: 0px 1px 2px rgba(60, 64, 67, 0.3), 0px 1px 3px 1px rgba(60, 64, 67, 0.15);\n",
              "    fill: #174EA6;\n",
              "  }\n",
              "\n",
              "  [theme=dark] .colab-df-quickchart {\n",
              "    background-color: #3B4455;\n",
              "    fill: #D2E3FC;\n",
              "  }\n",
              "\n",
              "  [theme=dark] .colab-df-quickchart:hover {\n",
              "    background-color: #434B5C;\n",
              "    box-shadow: 0px 1px 3px 1px rgba(0, 0, 0, 0.15);\n",
              "    filter: drop-shadow(0px 1px 2px rgba(0, 0, 0, 0.3));\n",
              "    fill: #FFFFFF;\n",
              "  }\n",
              "</style>\n",
              "\n",
              "    <script>\n",
              "      async function quickchart(key) {\n",
              "        const containerElement = document.querySelector('#' + key);\n",
              "        const charts = await google.colab.kernel.invokeFunction(\n",
              "            'suggestCharts', [key], {});\n",
              "      }\n",
              "    </script>\n",
              "\n",
              "      <script>\n",
              "\n",
              "function displayQuickchartButton(domScope) {\n",
              "  let quickchartButtonEl =\n",
              "    domScope.querySelector('#df-eb5b27b8-f0d8-469d-83ab-6edb338fdb15 button.colab-df-quickchart');\n",
              "  quickchartButtonEl.style.display =\n",
              "    google.colab.kernel.accessAllowed ? 'block' : 'none';\n",
              "}\n",
              "\n",
              "        displayQuickchartButton(document);\n",
              "      </script>\n",
              "      <style>\n",
              "    .colab-df-container {\n",
              "      display:flex;\n",
              "      flex-wrap:wrap;\n",
              "      gap: 12px;\n",
              "    }\n",
              "\n",
              "    .colab-df-convert {\n",
              "      background-color: #E8F0FE;\n",
              "      border: none;\n",
              "      border-radius: 50%;\n",
              "      cursor: pointer;\n",
              "      display: none;\n",
              "      fill: #1967D2;\n",
              "      height: 32px;\n",
              "      padding: 0 0 0 0;\n",
              "      width: 32px;\n",
              "    }\n",
              "\n",
              "    .colab-df-convert:hover {\n",
              "      background-color: #E2EBFA;\n",
              "      box-shadow: 0px 1px 2px rgba(60, 64, 67, 0.3), 0px 1px 3px 1px rgba(60, 64, 67, 0.15);\n",
              "      fill: #174EA6;\n",
              "    }\n",
              "\n",
              "    [theme=dark] .colab-df-convert {\n",
              "      background-color: #3B4455;\n",
              "      fill: #D2E3FC;\n",
              "    }\n",
              "\n",
              "    [theme=dark] .colab-df-convert:hover {\n",
              "      background-color: #434B5C;\n",
              "      box-shadow: 0px 1px 3px 1px rgba(0, 0, 0, 0.15);\n",
              "      filter: drop-shadow(0px 1px 2px rgba(0, 0, 0, 0.3));\n",
              "      fill: #FFFFFF;\n",
              "    }\n",
              "  </style>\n",
              "\n",
              "      <script>\n",
              "        const buttonEl =\n",
              "          document.querySelector('#df-3013fecc-6e77-44bc-90c6-c1f0324c7a8b button.colab-df-convert');\n",
              "        buttonEl.style.display =\n",
              "          google.colab.kernel.accessAllowed ? 'block' : 'none';\n",
              "\n",
              "        async function convertToInteractive(key) {\n",
              "          const element = document.querySelector('#df-3013fecc-6e77-44bc-90c6-c1f0324c7a8b');\n",
              "          const dataTable =\n",
              "            await google.colab.kernel.invokeFunction('convertToInteractive',\n",
              "                                                     [key], {});\n",
              "          if (!dataTable) return;\n",
              "\n",
              "          const docLinkHtml = 'Like what you see? Visit the ' +\n",
              "            '<a target=\"_blank\" href=https://colab.research.google.com/notebooks/data_table.ipynb>data table notebook</a>'\n",
              "            + ' to learn more about interactive tables.';\n",
              "          element.innerHTML = '';\n",
              "          dataTable['output_type'] = 'display_data';\n",
              "          await google.colab.output.renderOutput(dataTable, element);\n",
              "          const docLink = document.createElement('div');\n",
              "          docLink.innerHTML = docLinkHtml;\n",
              "          element.appendChild(docLink);\n",
              "        }\n",
              "      </script>\n",
              "    </div>\n",
              "  </div>\n"
            ]
          },
          "metadata": {},
          "execution_count": 27
        }
      ]
    },
    {
      "cell_type": "code",
      "source": [
        "df_vdem[[\"v2eltrnout\", \"v2elvaptrn\"]].isna().sum()"
      ],
      "metadata": {
        "colab": {
          "base_uri": "https://localhost:8080/"
        },
        "id": "DNcw1Udk4A4t",
        "outputId": "13e015cb-2e66-49cd-968c-30e8e499af1f"
      },
      "execution_count": 28,
      "outputs": [
        {
          "output_type": "execute_result",
          "data": {
            "text/plain": [
              "v2eltrnout    24334\n",
              "v2elvaptrn    25167\n",
              "dtype: int64"
            ]
          },
          "metadata": {},
          "execution_count": 28
        }
      ]
    },
    {
      "cell_type": "code",
      "source": [
        "# Remove VAP turnout\n",
        "df_vdem = df_vdem.drop(\"v2elvaptrn\", axis=1)"
      ],
      "metadata": {
        "id": "TNB0QRRs-DRO"
      },
      "execution_count": 29,
      "outputs": []
    },
    {
      "cell_type": "code",
      "source": [
        "# Look at data for Switzerland\n",
        "df_vdem_Switzerland = df_vdem.loc[df_vdem[\"country_name\"]==\"Switzerland\"]\n",
        "df_vdem_Switzerland = df_vdem_Switzerland.dropna()"
      ],
      "metadata": {
        "id": "ZEF7pz3EzFr2"
      },
      "execution_count": 30,
      "outputs": []
    },
    {
      "cell_type": "code",
      "source": [
        "df_vdem_Switzerland"
      ],
      "metadata": {
        "colab": {
          "base_uri": "https://localhost:8080/",
          "height": 520
        },
        "id": "BV8gDt58zi7K",
        "outputId": "349a56f4-0533-4ecd-aff6-31a2ff9d3a8a"
      },
      "execution_count": 31,
      "outputs": [
        {
          "output_type": "execute_result",
          "data": {
            "text/plain": [
              "     v2eltrnout country_name  year   e_wb_pop  v2elcomvot  v2elpubfin  \\\n",
              "756       64.46  Switzerland  1963  5694247.0         0.0      -2.215   \n",
              "760       63.76  Switzerland  1967  5991785.0         0.0      -2.215   \n",
              "764       56.36  Switzerland  1971  6213399.0         0.0      -2.215   \n",
              "768       52.39  Switzerland  1975  6338632.0         0.0      -2.215   \n",
              "772       48.06  Switzerland  1979  6294365.0         0.0      -2.215   \n",
              "776       48.91  Switzerland  1983  6418773.0         0.0      -2.215   \n",
              "780       47.48  Switzerland  1987  6545106.0         0.0      -2.215   \n",
              "784       46.04  Switzerland  1991  6799978.0         0.0      -2.215   \n",
              "788       42.25  Switzerland  1995  7040687.0         0.0      -1.979   \n",
              "792       43.22  Switzerland  1999  7143991.0         0.0      -1.979   \n",
              "796       45.22  Switzerland  2003  7339001.0         0.0      -1.979   \n",
              "800       48.28  Switzerland  2007  7551117.0         0.0      -1.979   \n",
              "804       49.10  Switzerland  2011  7912398.0         0.0      -1.979   \n",
              "808       48.48  Switzerland  2015  8282396.0         0.0      -1.979   \n",
              "812       45.12  Switzerland  2019  8575280.0         0.0      -1.979   \n",
              "\n",
              "     v2ellovtlg  v2ellovtsm  v2elparlel  \n",
              "756       26.60        23.9         1.0  \n",
              "760       23.50        23.2         1.0  \n",
              "764       22.90        21.7         1.0  \n",
              "768       24.90        22.2         1.0  \n",
              "772       24.40        24.0         1.0  \n",
              "776       23.30        22.8         1.0  \n",
              "780       22.90        19.6         1.0  \n",
              "784       21.00        18.5         1.0  \n",
              "788       21.80        20.2         1.0  \n",
              "792       22.60        22.5         1.0  \n",
              "796       26.70        23.3         1.0  \n",
              "800       28.60        19.3         1.0  \n",
              "804       26.56        18.7         1.0  \n",
              "808       29.40        18.8         1.0  \n",
              "812       25.60        16.8         1.0  "
            ],
            "text/html": [
              "\n",
              "\n",
              "  <div id=\"df-7ff7048f-f3da-43fd-b04b-f5246f86b580\">\n",
              "    <div class=\"colab-df-container\">\n",
              "      <div>\n",
              "<style scoped>\n",
              "    .dataframe tbody tr th:only-of-type {\n",
              "        vertical-align: middle;\n",
              "    }\n",
              "\n",
              "    .dataframe tbody tr th {\n",
              "        vertical-align: top;\n",
              "    }\n",
              "\n",
              "    .dataframe thead th {\n",
              "        text-align: right;\n",
              "    }\n",
              "</style>\n",
              "<table border=\"1\" class=\"dataframe\">\n",
              "  <thead>\n",
              "    <tr style=\"text-align: right;\">\n",
              "      <th></th>\n",
              "      <th>v2eltrnout</th>\n",
              "      <th>country_name</th>\n",
              "      <th>year</th>\n",
              "      <th>e_wb_pop</th>\n",
              "      <th>v2elcomvot</th>\n",
              "      <th>v2elpubfin</th>\n",
              "      <th>v2ellovtlg</th>\n",
              "      <th>v2ellovtsm</th>\n",
              "      <th>v2elparlel</th>\n",
              "    </tr>\n",
              "  </thead>\n",
              "  <tbody>\n",
              "    <tr>\n",
              "      <th>756</th>\n",
              "      <td>64.46</td>\n",
              "      <td>Switzerland</td>\n",
              "      <td>1963</td>\n",
              "      <td>5694247.0</td>\n",
              "      <td>0.0</td>\n",
              "      <td>-2.215</td>\n",
              "      <td>26.60</td>\n",
              "      <td>23.9</td>\n",
              "      <td>1.0</td>\n",
              "    </tr>\n",
              "    <tr>\n",
              "      <th>760</th>\n",
              "      <td>63.76</td>\n",
              "      <td>Switzerland</td>\n",
              "      <td>1967</td>\n",
              "      <td>5991785.0</td>\n",
              "      <td>0.0</td>\n",
              "      <td>-2.215</td>\n",
              "      <td>23.50</td>\n",
              "      <td>23.2</td>\n",
              "      <td>1.0</td>\n",
              "    </tr>\n",
              "    <tr>\n",
              "      <th>764</th>\n",
              "      <td>56.36</td>\n",
              "      <td>Switzerland</td>\n",
              "      <td>1971</td>\n",
              "      <td>6213399.0</td>\n",
              "      <td>0.0</td>\n",
              "      <td>-2.215</td>\n",
              "      <td>22.90</td>\n",
              "      <td>21.7</td>\n",
              "      <td>1.0</td>\n",
              "    </tr>\n",
              "    <tr>\n",
              "      <th>768</th>\n",
              "      <td>52.39</td>\n",
              "      <td>Switzerland</td>\n",
              "      <td>1975</td>\n",
              "      <td>6338632.0</td>\n",
              "      <td>0.0</td>\n",
              "      <td>-2.215</td>\n",
              "      <td>24.90</td>\n",
              "      <td>22.2</td>\n",
              "      <td>1.0</td>\n",
              "    </tr>\n",
              "    <tr>\n",
              "      <th>772</th>\n",
              "      <td>48.06</td>\n",
              "      <td>Switzerland</td>\n",
              "      <td>1979</td>\n",
              "      <td>6294365.0</td>\n",
              "      <td>0.0</td>\n",
              "      <td>-2.215</td>\n",
              "      <td>24.40</td>\n",
              "      <td>24.0</td>\n",
              "      <td>1.0</td>\n",
              "    </tr>\n",
              "    <tr>\n",
              "      <th>776</th>\n",
              "      <td>48.91</td>\n",
              "      <td>Switzerland</td>\n",
              "      <td>1983</td>\n",
              "      <td>6418773.0</td>\n",
              "      <td>0.0</td>\n",
              "      <td>-2.215</td>\n",
              "      <td>23.30</td>\n",
              "      <td>22.8</td>\n",
              "      <td>1.0</td>\n",
              "    </tr>\n",
              "    <tr>\n",
              "      <th>780</th>\n",
              "      <td>47.48</td>\n",
              "      <td>Switzerland</td>\n",
              "      <td>1987</td>\n",
              "      <td>6545106.0</td>\n",
              "      <td>0.0</td>\n",
              "      <td>-2.215</td>\n",
              "      <td>22.90</td>\n",
              "      <td>19.6</td>\n",
              "      <td>1.0</td>\n",
              "    </tr>\n",
              "    <tr>\n",
              "      <th>784</th>\n",
              "      <td>46.04</td>\n",
              "      <td>Switzerland</td>\n",
              "      <td>1991</td>\n",
              "      <td>6799978.0</td>\n",
              "      <td>0.0</td>\n",
              "      <td>-2.215</td>\n",
              "      <td>21.00</td>\n",
              "      <td>18.5</td>\n",
              "      <td>1.0</td>\n",
              "    </tr>\n",
              "    <tr>\n",
              "      <th>788</th>\n",
              "      <td>42.25</td>\n",
              "      <td>Switzerland</td>\n",
              "      <td>1995</td>\n",
              "      <td>7040687.0</td>\n",
              "      <td>0.0</td>\n",
              "      <td>-1.979</td>\n",
              "      <td>21.80</td>\n",
              "      <td>20.2</td>\n",
              "      <td>1.0</td>\n",
              "    </tr>\n",
              "    <tr>\n",
              "      <th>792</th>\n",
              "      <td>43.22</td>\n",
              "      <td>Switzerland</td>\n",
              "      <td>1999</td>\n",
              "      <td>7143991.0</td>\n",
              "      <td>0.0</td>\n",
              "      <td>-1.979</td>\n",
              "      <td>22.60</td>\n",
              "      <td>22.5</td>\n",
              "      <td>1.0</td>\n",
              "    </tr>\n",
              "    <tr>\n",
              "      <th>796</th>\n",
              "      <td>45.22</td>\n",
              "      <td>Switzerland</td>\n",
              "      <td>2003</td>\n",
              "      <td>7339001.0</td>\n",
              "      <td>0.0</td>\n",
              "      <td>-1.979</td>\n",
              "      <td>26.70</td>\n",
              "      <td>23.3</td>\n",
              "      <td>1.0</td>\n",
              "    </tr>\n",
              "    <tr>\n",
              "      <th>800</th>\n",
              "      <td>48.28</td>\n",
              "      <td>Switzerland</td>\n",
              "      <td>2007</td>\n",
              "      <td>7551117.0</td>\n",
              "      <td>0.0</td>\n",
              "      <td>-1.979</td>\n",
              "      <td>28.60</td>\n",
              "      <td>19.3</td>\n",
              "      <td>1.0</td>\n",
              "    </tr>\n",
              "    <tr>\n",
              "      <th>804</th>\n",
              "      <td>49.10</td>\n",
              "      <td>Switzerland</td>\n",
              "      <td>2011</td>\n",
              "      <td>7912398.0</td>\n",
              "      <td>0.0</td>\n",
              "      <td>-1.979</td>\n",
              "      <td>26.56</td>\n",
              "      <td>18.7</td>\n",
              "      <td>1.0</td>\n",
              "    </tr>\n",
              "    <tr>\n",
              "      <th>808</th>\n",
              "      <td>48.48</td>\n",
              "      <td>Switzerland</td>\n",
              "      <td>2015</td>\n",
              "      <td>8282396.0</td>\n",
              "      <td>0.0</td>\n",
              "      <td>-1.979</td>\n",
              "      <td>29.40</td>\n",
              "      <td>18.8</td>\n",
              "      <td>1.0</td>\n",
              "    </tr>\n",
              "    <tr>\n",
              "      <th>812</th>\n",
              "      <td>45.12</td>\n",
              "      <td>Switzerland</td>\n",
              "      <td>2019</td>\n",
              "      <td>8575280.0</td>\n",
              "      <td>0.0</td>\n",
              "      <td>-1.979</td>\n",
              "      <td>25.60</td>\n",
              "      <td>16.8</td>\n",
              "      <td>1.0</td>\n",
              "    </tr>\n",
              "  </tbody>\n",
              "</table>\n",
              "</div>\n",
              "      <button class=\"colab-df-convert\" onclick=\"convertToInteractive('df-7ff7048f-f3da-43fd-b04b-f5246f86b580')\"\n",
              "              title=\"Convert this dataframe to an interactive table.\"\n",
              "              style=\"display:none;\">\n",
              "\n",
              "  <svg xmlns=\"http://www.w3.org/2000/svg\" height=\"24px\"viewBox=\"0 0 24 24\"\n",
              "       width=\"24px\">\n",
              "    <path d=\"M0 0h24v24H0V0z\" fill=\"none\"/>\n",
              "    <path d=\"M18.56 5.44l.94 2.06.94-2.06 2.06-.94-2.06-.94-.94-2.06-.94 2.06-2.06.94zm-11 1L8.5 8.5l.94-2.06 2.06-.94-2.06-.94L8.5 2.5l-.94 2.06-2.06.94zm10 10l.94 2.06.94-2.06 2.06-.94-2.06-.94-.94-2.06-.94 2.06-2.06.94z\"/><path d=\"M17.41 7.96l-1.37-1.37c-.4-.4-.92-.59-1.43-.59-.52 0-1.04.2-1.43.59L10.3 9.45l-7.72 7.72c-.78.78-.78 2.05 0 2.83L4 21.41c.39.39.9.59 1.41.59.51 0 1.02-.2 1.41-.59l7.78-7.78 2.81-2.81c.8-.78.8-2.07 0-2.86zM5.41 20L4 18.59l7.72-7.72 1.47 1.35L5.41 20z\"/>\n",
              "  </svg>\n",
              "      </button>\n",
              "\n",
              "\n",
              "\n",
              "    <div id=\"df-9282b4b0-75bc-4455-bf50-205ba7f28e7a\">\n",
              "      <button class=\"colab-df-quickchart\" onclick=\"quickchart('df-9282b4b0-75bc-4455-bf50-205ba7f28e7a')\"\n",
              "              title=\"Suggest charts.\"\n",
              "              style=\"display:none;\">\n",
              "\n",
              "<svg xmlns=\"http://www.w3.org/2000/svg\" height=\"24px\"viewBox=\"0 0 24 24\"\n",
              "     width=\"24px\">\n",
              "    <g>\n",
              "        <path d=\"M19 3H5c-1.1 0-2 .9-2 2v14c0 1.1.9 2 2 2h14c1.1 0 2-.9 2-2V5c0-1.1-.9-2-2-2zM9 17H7v-7h2v7zm4 0h-2V7h2v10zm4 0h-2v-4h2v4z\"/>\n",
              "    </g>\n",
              "</svg>\n",
              "      </button>\n",
              "    </div>\n",
              "\n",
              "<style>\n",
              "  .colab-df-quickchart {\n",
              "    background-color: #E8F0FE;\n",
              "    border: none;\n",
              "    border-radius: 50%;\n",
              "    cursor: pointer;\n",
              "    display: none;\n",
              "    fill: #1967D2;\n",
              "    height: 32px;\n",
              "    padding: 0 0 0 0;\n",
              "    width: 32px;\n",
              "  }\n",
              "\n",
              "  .colab-df-quickchart:hover {\n",
              "    background-color: #E2EBFA;\n",
              "    box-shadow: 0px 1px 2px rgba(60, 64, 67, 0.3), 0px 1px 3px 1px rgba(60, 64, 67, 0.15);\n",
              "    fill: #174EA6;\n",
              "  }\n",
              "\n",
              "  [theme=dark] .colab-df-quickchart {\n",
              "    background-color: #3B4455;\n",
              "    fill: #D2E3FC;\n",
              "  }\n",
              "\n",
              "  [theme=dark] .colab-df-quickchart:hover {\n",
              "    background-color: #434B5C;\n",
              "    box-shadow: 0px 1px 3px 1px rgba(0, 0, 0, 0.15);\n",
              "    filter: drop-shadow(0px 1px 2px rgba(0, 0, 0, 0.3));\n",
              "    fill: #FFFFFF;\n",
              "  }\n",
              "</style>\n",
              "\n",
              "    <script>\n",
              "      async function quickchart(key) {\n",
              "        const containerElement = document.querySelector('#' + key);\n",
              "        const charts = await google.colab.kernel.invokeFunction(\n",
              "            'suggestCharts', [key], {});\n",
              "      }\n",
              "    </script>\n",
              "\n",
              "      <script>\n",
              "\n",
              "function displayQuickchartButton(domScope) {\n",
              "  let quickchartButtonEl =\n",
              "    domScope.querySelector('#df-9282b4b0-75bc-4455-bf50-205ba7f28e7a button.colab-df-quickchart');\n",
              "  quickchartButtonEl.style.display =\n",
              "    google.colab.kernel.accessAllowed ? 'block' : 'none';\n",
              "}\n",
              "\n",
              "        displayQuickchartButton(document);\n",
              "      </script>\n",
              "      <style>\n",
              "    .colab-df-container {\n",
              "      display:flex;\n",
              "      flex-wrap:wrap;\n",
              "      gap: 12px;\n",
              "    }\n",
              "\n",
              "    .colab-df-convert {\n",
              "      background-color: #E8F0FE;\n",
              "      border: none;\n",
              "      border-radius: 50%;\n",
              "      cursor: pointer;\n",
              "      display: none;\n",
              "      fill: #1967D2;\n",
              "      height: 32px;\n",
              "      padding: 0 0 0 0;\n",
              "      width: 32px;\n",
              "    }\n",
              "\n",
              "    .colab-df-convert:hover {\n",
              "      background-color: #E2EBFA;\n",
              "      box-shadow: 0px 1px 2px rgba(60, 64, 67, 0.3), 0px 1px 3px 1px rgba(60, 64, 67, 0.15);\n",
              "      fill: #174EA6;\n",
              "    }\n",
              "\n",
              "    [theme=dark] .colab-df-convert {\n",
              "      background-color: #3B4455;\n",
              "      fill: #D2E3FC;\n",
              "    }\n",
              "\n",
              "    [theme=dark] .colab-df-convert:hover {\n",
              "      background-color: #434B5C;\n",
              "      box-shadow: 0px 1px 3px 1px rgba(0, 0, 0, 0.15);\n",
              "      filter: drop-shadow(0px 1px 2px rgba(0, 0, 0, 0.3));\n",
              "      fill: #FFFFFF;\n",
              "    }\n",
              "  </style>\n",
              "\n",
              "      <script>\n",
              "        const buttonEl =\n",
              "          document.querySelector('#df-7ff7048f-f3da-43fd-b04b-f5246f86b580 button.colab-df-convert');\n",
              "        buttonEl.style.display =\n",
              "          google.colab.kernel.accessAllowed ? 'block' : 'none';\n",
              "\n",
              "        async function convertToInteractive(key) {\n",
              "          const element = document.querySelector('#df-7ff7048f-f3da-43fd-b04b-f5246f86b580');\n",
              "          const dataTable =\n",
              "            await google.colab.kernel.invokeFunction('convertToInteractive',\n",
              "                                                     [key], {});\n",
              "          if (!dataTable) return;\n",
              "\n",
              "          const docLinkHtml = 'Like what you see? Visit the ' +\n",
              "            '<a target=\"_blank\" href=https://colab.research.google.com/notebooks/data_table.ipynb>data table notebook</a>'\n",
              "            + ' to learn more about interactive tables.';\n",
              "          element.innerHTML = '';\n",
              "          dataTable['output_type'] = 'display_data';\n",
              "          await google.colab.output.renderOutput(dataTable, element);\n",
              "          const docLink = document.createElement('div');\n",
              "          docLink.innerHTML = docLinkHtml;\n",
              "          element.appendChild(docLink);\n",
              "        }\n",
              "      </script>\n",
              "    </div>\n",
              "  </div>\n"
            ]
          },
          "metadata": {},
          "execution_count": 31
        }
      ]
    },
    {
      "cell_type": "code",
      "source": [
        "# Pre-processing\n",
        "df_vdem = df_vdem.dropna() # remove missing values\n",
        "c = Counter(df_vdem.country_name)\n",
        "min_key, min_count = min(c.items(), key=itemgetter(1))\n",
        "print(min_key, min_count)"
      ],
      "metadata": {
        "colab": {
          "base_uri": "https://localhost:8080/"
        },
        "id": "PyHbsFaCGivw",
        "outputId": "118a4cfa-8212-49b2-adc7-427b1485a1b6"
      },
      "execution_count": 32,
      "outputs": [
        {
          "output_type": "stream",
          "name": "stdout",
          "text": [
            "Haiti 1\n"
          ]
        }
      ]
    },
    {
      "cell_type": "code",
      "source": [
        "# Let's see how many countries occur >= 3 times in the data set\n",
        "print(\"Total number of countries:\", len(df_vdem.country_name.unique()))\n",
        "print(\n",
        "    \"Number of countries occuring at least 3 times:\",\n",
        "    len(\n",
        "    df_vdem[df_vdem.groupby('country_name')['country_name']\n",
        "            .transform('size') >= 3]\n",
        "    .country_name.unique()\n",
        "    )\n",
        "  )"
      ],
      "metadata": {
        "colab": {
          "base_uri": "https://localhost:8080/"
        },
        "id": "LLLup0n7KdDY",
        "outputId": "1b186ca6-00ca-40c5-e41d-a40a3cc1ba30"
      },
      "execution_count": 12,
      "outputs": [
        {
          "output_type": "stream",
          "name": "stdout",
          "text": [
            "Total number of countries: 156\n",
            "Number of countries occuring at least 3 times: 143\n"
          ]
        }
      ]
    },
    {
      "cell_type": "code",
      "source": [
        "df_vdem.shape"
      ],
      "metadata": {
        "colab": {
          "base_uri": "https://localhost:8080/"
        },
        "id": "z1lCn5_h_0nh",
        "outputId": "f6458a7e-80a0-4b17-e1cf-724c9259bcd1"
      },
      "execution_count": 33,
      "outputs": [
        {
          "output_type": "execute_result",
          "data": {
            "text/plain": [
              "(1475, 9)"
            ]
          },
          "metadata": {},
          "execution_count": 33
        }
      ]
    },
    {
      "cell_type": "code",
      "source": [
        "def merge(data1, data2):\n",
        "  x1, y1 = data1\n",
        "  x2, y2 = data2\n",
        "  return tf.concat([x1, x2], axis=-1), tf.concat([y1, y2], axis=-1)"
      ],
      "metadata": {
        "id": "GwDLGimywNVP"
      },
      "execution_count": 34,
      "outputs": []
    },
    {
      "cell_type": "code",
      "source": [
        "k=1\n",
        "for country in df_vdem.country_name.unique():\n",
        "  df_h=df_vdem[df_vdem.country_name==country]\n",
        "  if df_h.shape[0]>15:\n",
        "    #removing the country name\n",
        "    print(country)\n",
        "    df_h=df_h[[\"v2eltrnout\", \"e_wb_pop\", \"v2elcomvot\",\\\n",
        "        \"v2elpubfin\", \"v2elparlel\", \"v2ellovtlg\", \"v2ellovtsm\"]]\n",
        "\n",
        "    raw_data=df_h.to_numpy()\n",
        "    num_train_samples = int(0.5 * len(raw_data))\n",
        "    num_val_samples = int(0.25 * len(raw_data))\n",
        "    num_test_samples = len(raw_data) - num_train_samples - num_val_samples\n",
        "\n",
        "    # normalize data\n",
        "    mean = raw_data[:num_train_samples].mean(axis=0)\n",
        "    raw_data -= mean\n",
        "    std = raw_data[:num_train_samples].std(axis=0)\n",
        "    raw_data /= (std + 1e-9)\n",
        "\n",
        "    sampling_rate = 1 # every election\n",
        "    sequence_length = 3 # use last 3 elections to predict\n",
        "    delay = sampling_rate * (sequence_length - 1)\n",
        "    batch_size = 3\n",
        "    #index to predict\n",
        "    targets0=pd.DataFrame(raw_data)[0].to_numpy()\n",
        "  try:\n",
        "    if k==1:\n",
        "      train_dataset = keras.utils.timeseries_dataset_from_array(\n",
        "          raw_data[:-delay],\n",
        "          targets=targets0[delay:],\n",
        "          sampling_rate=sampling_rate,\n",
        "          sequence_length=sequence_length,\n",
        "          shuffle=True,\n",
        "          batch_size=batch_size,\n",
        "          start_index=0,\n",
        "          end_index=num_train_samples)\n",
        "\n",
        "      val_dataset = keras.utils.timeseries_dataset_from_array(\n",
        "          raw_data[:-delay],\n",
        "          targets=targets0[delay:],\n",
        "          sampling_rate=sampling_rate,\n",
        "          sequence_length=sequence_length,\n",
        "          shuffle=True,\n",
        "          batch_size=batch_size,\n",
        "          start_index=num_train_samples,\n",
        "          end_index=num_train_samples + num_val_samples - 1)\n",
        "\n",
        "      test_dataset = keras.utils.timeseries_dataset_from_array(\n",
        "          raw_data[:-delay],\n",
        "          targets=targets0[delay:],\n",
        "          sampling_rate=sampling_rate,\n",
        "          sequence_length=sequence_length,\n",
        "          shuffle=True,\n",
        "          batch_size=batch_size,\n",
        "          start_index=num_train_samples + num_val_samples - 1)\n",
        "    else:\n",
        "        train_dataset2 = keras.utils.timeseries_dataset_from_array(\n",
        "          raw_data[:-delay],\n",
        "          targets=targets0[delay:],\n",
        "          sampling_rate=sampling_rate,\n",
        "          sequence_length=sequence_length,\n",
        "          shuffle=True,\n",
        "          batch_size=batch_size,\n",
        "          start_index=0,\n",
        "          end_index=num_train_samples)\n",
        "\n",
        "        val_dataset2 = keras.utils.timeseries_dataset_from_array(\n",
        "            raw_data[:-delay],\n",
        "            targets=targets0[delay:],\n",
        "            sampling_rate=sampling_rate,\n",
        "            sequence_length=sequence_length,\n",
        "            shuffle=True,\n",
        "            batch_size=batch_size,\n",
        "            start_index=num_train_samples,\n",
        "            end_index=num_train_samples + num_val_samples - 1)\n",
        "\n",
        "        test_dataset2 = keras.utils.timeseries_dataset_from_array(\n",
        "            raw_data[:-delay],\n",
        "            targets=targets0[delay:],\n",
        "            sampling_rate=sampling_rate,\n",
        "            sequence_length=sequence_length,\n",
        "            shuffle=True,\n",
        "            batch_size=batch_size,\n",
        "            start_index=num_train_samples + num_val_samples - 1)\n",
        "        k=2\n",
        "\n",
        "\n",
        "        train_dataset = tf.data.Dataset.zip((train_dataset, train_dataset2)).map(merge)\n",
        "        val_dataset = tf.data.Dataset.zip((val_dataset, val_dataset2)).map(merge)\n",
        "        test_dataset = tf.data.Dataset.zip((test_dataset, test_dataset2)).map(merge)\n",
        "\n",
        "  except:\n",
        "    k=k+1"
      ],
      "metadata": {
        "colab": {
          "base_uri": "https://localhost:8080/"
        },
        "id": "uNfe-aoeca-L",
        "outputId": "0bb78783-dc0e-4992-f0a2-37355806f10a"
      },
      "execution_count": 43,
      "outputs": [
        {
          "output_type": "stream",
          "name": "stdout",
          "text": [
            "Mexico\n",
            "Sweden\n",
            "Japan\n",
            "Colombia\n",
            "United States of America\n",
            "Portugal\n",
            "Canada\n",
            "Australia\n",
            "Germany\n",
            "Ireland\n",
            "Netherlands\n",
            "Austria\n",
            "Belgium\n",
            "Bulgaria\n",
            "Denmark\n",
            "Finland\n",
            "Greece\n",
            "Iceland\n",
            "Israel\n",
            "New Zealand\n",
            "Norway\n"
          ]
        }
      ]
    },
    {
      "cell_type": "code",
      "source": [
        "targets0"
      ],
      "metadata": {
        "colab": {
          "base_uri": "https://localhost:8080/"
        },
        "id": "3dodFDCIqLmE",
        "outputId": "191e2374-4ca2-4859-d605-34ed6612f8c5"
      },
      "execution_count": 38,
      "outputs": [
        {
          "output_type": "execute_result",
          "data": {
            "text/plain": [
              "array([79.07, 85.43, 83.84, 80.24, 82.89, 81.99, 84.03, 83.16, 75.85,\n",
              "       78.33, 75.48, 77.44, 76.37, 78.23, 78.22, 77.17])"
            ]
          },
          "metadata": {},
          "execution_count": 38
        }
      ]
    },
    {
      "cell_type": "code",
      "source": [
        "for x, y in test_dataset:\n",
        "  print(x.shape, y.shape)"
      ],
      "metadata": {
        "id": "66JiO7fIBwqv",
        "colab": {
          "base_uri": "https://localhost:8080/"
        },
        "outputId": "3322661b-a709-4158-acfb-c22ec3e50dee"
      },
      "execution_count": 42,
      "outputs": [
        {
          "output_type": "stream",
          "name": "stdout",
          "text": [
            "(3, 3, 7) (3,)\n"
          ]
        }
      ]
    },
    {
      "cell_type": "code",
      "source": [
        "#Naive Baseline from the Book github\n",
        "def evaluate_naive_method(dataset):\n",
        "    total_abs_err = 0.\n",
        "    samples_seen = 0\n",
        "    for samples, targets in dataset:\n",
        "        preds = samples[:, -1, 1] #* std[1] + mean[1]\n",
        "        total_abs_err += np.sum(np.abs(preds - targets))\n",
        "        samples_seen += samples.shape[0]\n",
        "    return total_abs_err / samples_seen\n",
        "\n",
        "print(f\"Validation MAE: {evaluate_naive_method(val_dataset):.2f}\")\n",
        "print(f\"Test MAE: {evaluate_naive_method(test_dataset):.2f}\")"
      ],
      "metadata": {
        "colab": {
          "base_uri": "https://localhost:8080/"
        },
        "id": "JlzkPxLaQqVp",
        "outputId": "651c6d10-7cc4-4e4f-8b26-4995b365ba83"
      },
      "execution_count": 37,
      "outputs": [
        {
          "output_type": "stream",
          "name": "stdout",
          "text": [
            "Validation MAE: 4513675.52\n",
            "Test MAE: 5079544.77\n"
          ]
        }
      ]
    },
    {
      "cell_type": "code",
      "source": [
        "# Estimate a simple, densely connected baseline\n",
        "inputs = keras.Input(shape=(sequence_length, raw_data.shape[-1]))\n",
        "x = layers.LSTM(128)(inputs)\n",
        "outputs = layers.Dense(1)(x) # predicting turnout\n",
        "model = keras.Model(inputs, outputs)\n",
        "\n",
        "callbacks = [\n",
        "    keras.callbacks.ModelCheckpoint(\"vdem_baseline.keras\",\n",
        "                                    save_best_only=True)\n",
        "]\n",
        "model.compile(optimizer=\"rmsprop\", loss=\"mse\", metrics=[\"mae\"])\n",
        "history = model.fit(train_dataset,\n",
        "                    epochs=20,\n",
        "                    validation_data=val_dataset,\n",
        "                    callbacks=callbacks)\n",
        "\n",
        "model = keras.models.load_model(\"vdem_baseline.keras\")\n",
        "print(f\"Test MAE: {model.evaluate(test_dataset)[1]:.2f}\")"
      ],
      "metadata": {
        "colab": {
          "base_uri": "https://localhost:8080/"
        },
        "id": "vtS5_IEn_gQ5",
        "outputId": "04573b23-5158-445f-a6c6-0b7c1f596851"
      },
      "execution_count": null,
      "outputs": [
        {
          "output_type": "stream",
          "name": "stdout",
          "text": [
            "Epoch 1/20\n",
            "2/2 [==============================] - 5s 900ms/step - loss: 0.4127 - mae: 0.5290 - val_loss: 12.7783 - val_mae: 3.5747\n",
            "Epoch 2/20\n",
            "2/2 [==============================] - 0s 97ms/step - loss: 0.3809 - mae: 0.5016 - val_loss: 12.3977 - val_mae: 3.5210\n",
            "Epoch 3/20\n",
            "2/2 [==============================] - 0s 63ms/step - loss: 0.3449 - mae: 0.4764 - val_loss: 12.0220 - val_mae: 3.4673\n",
            "Epoch 4/20\n",
            "2/2 [==============================] - 0s 65ms/step - loss: 0.3091 - mae: 0.4538 - val_loss: 11.7713 - val_mae: 3.4309\n",
            "Epoch 5/20\n",
            "2/2 [==============================] - 0s 97ms/step - loss: 0.2750 - mae: 0.4318 - val_loss: 11.5290 - val_mae: 3.3954\n",
            "Epoch 6/20\n",
            "2/2 [==============================] - 0s 96ms/step - loss: 0.2620 - mae: 0.4440 - val_loss: 11.2372 - val_mae: 3.3522\n",
            "Epoch 7/20\n",
            "2/2 [==============================] - 0s 101ms/step - loss: 0.2413 - mae: 0.4138 - val_loss: 11.0408 - val_mae: 3.3228\n",
            "Epoch 8/20\n",
            "2/2 [==============================] - 0s 106ms/step - loss: 0.2108 - mae: 0.3949 - val_loss: 10.8857 - val_mae: 3.2994\n",
            "Epoch 9/20\n",
            "2/2 [==============================] - 0s 105ms/step - loss: 0.2064 - mae: 0.3941 - val_loss: 10.7166 - val_mae: 3.2736\n",
            "Epoch 10/20\n",
            "2/2 [==============================] - 0s 102ms/step - loss: 0.1849 - mae: 0.3779 - val_loss: 10.5610 - val_mae: 3.2498\n",
            "Epoch 11/20\n",
            "2/2 [==============================] - 0s 66ms/step - loss: 0.1772 - mae: 0.3799 - val_loss: 10.3449 - val_mae: 3.2164\n",
            "Epoch 12/20\n",
            "2/2 [==============================] - 0s 96ms/step - loss: 0.1531 - mae: 0.3490 - val_loss: 10.2222 - val_mae: 3.1972\n",
            "Epoch 13/20\n",
            "2/2 [==============================] - 0s 69ms/step - loss: 0.1411 - mae: 0.3391 - val_loss: 10.0922 - val_mae: 3.1768\n",
            "Epoch 14/20\n",
            "2/2 [==============================] - 0s 63ms/step - loss: 0.1300 - mae: 0.3357 - val_loss: 9.8814 - val_mae: 3.1435\n",
            "Epoch 15/20\n",
            "2/2 [==============================] - 0s 100ms/step - loss: 0.1196 - mae: 0.3141 - val_loss: 9.7763 - val_mae: 3.1267\n",
            "Epoch 16/20\n",
            "2/2 [==============================] - 0s 94ms/step - loss: 0.1072 - mae: 0.3012 - val_loss: 9.6101 - val_mae: 3.1000\n",
            "Epoch 17/20\n",
            "2/2 [==============================] - 0s 98ms/step - loss: 0.1013 - mae: 0.2893 - val_loss: 9.4917 - val_mae: 3.0809\n",
            "Epoch 18/20\n",
            "2/2 [==============================] - 0s 63ms/step - loss: 0.1013 - mae: 0.2944 - val_loss: 9.2806 - val_mae: 3.0464\n",
            "Epoch 19/20\n",
            "2/2 [==============================] - 0s 97ms/step - loss: 0.0923 - mae: 0.2773 - val_loss: 9.1019 - val_mae: 3.0169\n",
            "Epoch 20/20\n",
            "2/2 [==============================] - 0s 99ms/step - loss: 0.0787 - mae: 0.2471 - val_loss: 9.0261 - val_mae: 3.0044\n",
            "1/1 [==============================] - 1s 516ms/step - loss: 5.6426 - mae: 2.3754\n",
            "Test MAE: 2.38\n"
          ]
        }
      ]
    },
    {
      "cell_type": "code",
      "source": [
        "model.summary()"
      ],
      "metadata": {
        "id": "0yfdBcAkGEbD",
        "colab": {
          "base_uri": "https://localhost:8080/"
        },
        "outputId": "8d562abc-5e2a-412b-c270-6157ed50655d"
      },
      "execution_count": null,
      "outputs": [
        {
          "output_type": "stream",
          "name": "stdout",
          "text": [
            "Model: \"model_8\"\n",
            "_________________________________________________________________\n",
            " Layer (type)                Output Shape              Param #   \n",
            "=================================================================\n",
            " input_9 (InputLayer)        [(None, 3, 7)]            0         \n",
            "                                                                 \n",
            " lstm_8 (LSTM)               (None, 128)               69632     \n",
            "                                                                 \n",
            " dense_8 (Dense)             (None, 1)                 129       \n",
            "                                                                 \n",
            "=================================================================\n",
            "Total params: 69,761\n",
            "Trainable params: 69,761\n",
            "Non-trainable params: 0\n",
            "_________________________________________________________________\n"
          ]
        }
      ]
    },
    {
      "cell_type": "code",
      "source": [
        "# Plot MAE for training and validation data\n",
        "loss = history.history[\"mae\"]\n",
        "val_loss = history.history[\"val_mae\"]\n",
        "epochs = range(1, len(loss) + 1)\n",
        "plt.figure()\n",
        "plt.plot(epochs, loss, \"bo\", label=\"Training MAE\")\n",
        "plt.plot(epochs, val_loss, \"b\", label=\"Validation MAE\")\n",
        "plt.title(\"Training and validation MAE\")\n",
        "plt.legend()\n",
        "plt.show()"
      ],
      "metadata": {
        "id": "C1wKZjwBGqho",
        "colab": {
          "base_uri": "https://localhost:8080/",
          "height": 452
        },
        "outputId": "a9e930ed-efe8-49d6-a1fd-8ba075381093"
      },
      "execution_count": null,
      "outputs": [
        {
          "output_type": "display_data",
          "data": {
            "text/plain": [
              "<Figure size 640x480 with 1 Axes>"
            ],
            "image/png": "[encoded data removed]"
          },
          "metadata": {}
        }
      ]
    },
    {
      "cell_type": "code",
      "source": [
        "# Dropout-regularized LSTM\n",
        "inputs = keras.Input(shape=(sequence_length, raw_data.shape[-1]))\n",
        "x = layers.LSTM(32, recurrent_dropout=0.25)(inputs)\n",
        "x = layers.Dropout(0.5)(x)\n",
        "outputs = layers.Dense(1)(x)\n",
        "model = keras.Model(inputs, outputs)\n",
        "\n",
        "callbacks = [\n",
        "    keras.callbacks.ModelCheckpoint(\"vdem_lstm_dropout.keras\",\n",
        "                                    save_best_only=True)\n",
        "]\n",
        "model.compile(optimizer=\"rmsprop\", loss=\"mse\", metrics=[\"mae\"])\n",
        "history = model.fit(train_dataset,\n",
        "                    epochs=2,\n",
        "                    validation_data=val_dataset,\n",
        "                    callbacks=callbacks)"
      ],
      "metadata": {
        "id": "oXsnmAAHHAZ4"
      },
      "execution_count": null,
      "outputs": []
    }
  ]
}